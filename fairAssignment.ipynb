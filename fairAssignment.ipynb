{
 "cells": [
  {
   "cell_type": "markdown",
   "metadata": {},
   "source": [
    "## Simulating\n",
    "### General Imports"
   ]
  },
  {
   "cell_type": "code",
   "execution_count": 1,
   "metadata": {},
   "outputs": [],
   "source": [
    "import numpy as np\n",
    "import matplotlib\n",
    "import matplotlib.pyplot as plt\n",
    "from objects import CategoricalFeatureDistribution, MixtureDistribution, Populace, Region\n",
    "from plot_utilities import removeByLabel,addByLabel,getAllObjects\n",
    "# matplotlib.use('TKAgg') #easier window management when not using IPython\n",
    "# matplotlib.rcParams['text.usetex'] = True\n",
    "number_desired_colors = 12 # https://matplotlib.org/tutorials/colors/colormaps.ht\n",
    "cmap = plt.cm.get_cmap('nipy_spectral',number_desired_colors)\n",
    "colors = [cmap(i) for i in range(number_desired_colors)]"
   ]
  },
  {
   "cell_type": "markdown",
   "metadata": {},
   "source": [
    "Each individual has parameters $\\theta =(\\theta_u,\\theta_p)$. There are two subpopulations:\n",
    "* For subpopulation $1$, $\\theta_u = 1, \\theta_p=1$\n",
    "* For subpopulation $2$, $\\theta_u =20, \\theta_p = 20$\n",
    "* Facilities are randomly assigned to individuals with probability proportional to $\\theta_u + \\theta_p$. For selected individuals, a facility is located uniformly randomly within their hub (their immediate vicinity)"
   ]
  },
  {
   "cell_type": "code",
   "execution_count": 2,
   "metadata": {},
   "outputs": [],
   "source": [
    "theta_u_type1_value = 1\n",
    "theta_p_type1_value = 1\n",
    "theta_u_type2_value = 20\n",
    "theta_p_type2_value = 20\n",
    "\n",
    "density = 1/5000\n",
    "sizeRegion = 1000\n",
    "sizeHub = sizeRegion/25\n",
    "# nPop = 10000\n",
    "nPop = int(sizeRegion * sizeRegion * density)\n",
    "nPerHub = 4\n",
    "nFacilities = int(nPop/100)"
   ]
  },
  {
   "cell_type": "markdown",
   "metadata": {},
   "source": [
    "* The `Region` instance `r` is the square of side length `sizeRegion` at the origin in quadrant $1$. Each `Hub` is a circle of radius `sizeHub`, whose center is distributed uniformly randomly in `r` (such that it is fully contained). Hubs can overlap.\n",
    "\n",
    "* Each subpopulation (a `Populace`) will be divided among the overall `Region` into clusters called `hub`s. Each `hub` has `nPerHub` individuals, and there are just enough hubs to accommodate `nPop` individuals.\n",
    "\n",
    "*There are `nFacilities` facilities, also distributed uniformly throughout `r`."
   ]
  },
  {
   "cell_type": "code",
   "execution_count": 3,
   "metadata": {},
   "outputs": [],
   "source": [
    "## Instantiate subpopulations and Facilities\n",
    "featureDistribution1 = CategoricalFeatureDistribution(theta_u_type1_value,theta_p_type1_value)\n",
    "featureDistribution2 = CategoricalFeatureDistribution(theta_u_type2_value,theta_p_type2_value)\n",
    "mixtureDistribution = MixtureDistribution([featureDistribution1,featureDistribution2],[0.95,0.05])\n",
    "pop = Populace(mixtureDistribution,nPop)\n",
    "r = Region(sizeRegion,sizeHub,nPerHub)\n",
    "r.populate(pop)\n",
    "r.generateFacilitiesBasedOnSumOfParameters(nFacilities)"
   ]
  },
  {
   "cell_type": "markdown",
   "metadata": {},
   "source": [
    "## Plotting:\n",
    "\n",
    "### Plotting objects"
   ]
  },
  {
   "cell_type": "code",
   "execution_count": null,
   "metadata": {},
   "outputs": [],
   "source": [
    "def plotAllObjects():\n",
    "\tfig, ax = plt.subplots(figsize=(10,10))\n",
    "\tplt.axis('off')\n",
    "\tplt.title(f\"Region with hubs and individuals\")\n",
    "\n",
    "\t## Plot Region\n",
    "\tlabelRegion=\"Region\"\n",
    "\tplt.plot(*r.getExteriorCoords(),color=colors.pop(),label=labelRegion)\n",
    "\t## Plot Hubs\n",
    "\tlabelHub=\"Hub\"\n",
    "\tcolorHub = colors.pop()\n",
    "\tfor hub in r.hubs:\n",
    "\t\tplt.plot(*hub.xy,color=colorHub,label=labelHub)\n",
    "\t\t# hub.geom.plotSelf(color = colorHub,label=labelHub)\n",
    "\t# plt.plot(*r.getHubCoordinates(), color=colors.pop(),label=labelHub)\n",
    "\t## Plot Individuals\n",
    "\tlabelIndividuals = \"Individual\"\n",
    "\tdef plotIndividuals():\n",
    "\t\t# plt.scatter(*pop.getIndividualCoordinates(),marker=\"*\",c=\"blue\",label=\"Individual\")\n",
    "\t\tweights = pop.getIndividualParameterSums()\n",
    "\t\tcolor_weight_map = {weight : colors.pop() for weight in set(weights)}\n",
    "\t\tindividual_colors = [color_weight_map[weight] for weight in weights]\n",
    "\t\tindividual_labels = [f\"{labelIndividuals} {individual.parameters}\" for individual in r.individuals]\n",
    "\t\tfor i,individual in enumerate(r.individuals):\n",
    "\t\t\tplt.scatter(*individual.location.xy,marker = \"*\",c=[individual_colors[i]],label=individual_labels[i])\n",
    "\n",
    "\tplotIndividuals()\n",
    "\n",
    "\t## Plot Facilities\n",
    "\tlabelFacility = \"Facility\"\n",
    "\tplt.scatter(*r.getFacilityLocations(),marker=\"+\",c=[colors.pop()],label=labelFacility)\n",
    "\n",
    "\t## Create Legend\n",
    "\tlegend_dict = {artist.properties().get('label') : artist for artist in ax.collections.copy() + ax.lines.copy()}\n",
    "\tplt.legend(legend_dict.values(),legend_dict.keys(),loc=\"upper right\")\n",
    "\tremoveByLabel(\"Hub\",ax)\n",
    "\tplt.show(block=False)\n",
    "\t# plt.close(fig)\n",
    "\treturn fig,ax\n",
    "\n",
    "\n",
    "fig,ax = plotAllObjects()\n"
   ]
  },
  {
   "cell_type": "code",
   "execution_count": null,
   "metadata": {},
   "outputs": [],
   "source": [
    "### PLOT 2: Distance Histograms\n",
    "\n",
    "def get_distances_to_facilities(individuals):\n",
    "\t# for individual in r.individuals:\n",
    "\t# dist_to_nearest = min([individual.location.distance(hub.geom) for hub in r.hubs])\n",
    "\treturn [min([individual.location.distance(facilityLocation) for facilityLocation in r.facilityLocations]) for individual in individuals]\n",
    "\n",
    "subPops = r.getAllSubpopulations()\n",
    "subPopDistances = [get_distances_to_facilities(subPop) for subPop in subPops]\n",
    "subPopColors = [colors.pop() for subpop in subPopDistances]\n",
    "\n",
    "def plotHistogram():\n",
    "\tfig, ax = plt.subplots(figsize=(10,10))\n",
    "\n",
    "\tplt.title(f\"Distances from Nearest Facility (nIndividuals={len(r.individuals)},nFacilities={len(r.facilityLocations)})\")\n",
    "\t# distances_total = get_distances_to_facilities(r.individuals)\n",
    "\tnum_bins = 30\n",
    "\tweights = [np.zeros_like(oneSubPopDistances) + 1. / len(oneSubPopDistances) for oneSubPopDistances in subPopDistances]\n",
    "\t# ,density=True\n",
    "\tn,bins,histPatches = plt.hist(subPopDistances,num_bins,weights=weights,color = subPopColors)\n",
    "\tfor patch,pop in zip(histPatches,subPops):\n",
    "\t\tpatch.set_label( f\"$\\\\theta = {pop[0].parameters}$\")\n",
    "\t# legend_dict = {artist.properties().get('label') : artist for artist in ax.collections.copy() + ax.lines.copy()}\n",
    "\tplt.legend(handles=histPatches,loc=\"upper right\")\n",
    "\tplt.show(block=False)\n",
    "\t# plt.close(fig)\n",
    "\treturn fig,ax\n",
    "\n",
    "fig,ax = plotHistogram()"
   ]
  },
  {
   "cell_type": "code",
   "execution_count": null,
   "metadata": {},
   "outputs": [],
   "source": [
    "### PLOT 2.5: Cumulative Distance Histograms\n",
    "\n",
    "def plotCumulativeHistogram():\n",
    "\tfig, ax = plt.subplots(figsize=(10,10))\n",
    "\n",
    "\tplt.title(f\"Distances from Nearest Facility (cumulative histogram) (nIndividuals={len(r.individuals)},nFacilities={len(r.facilityLocations)})\")\n",
    "\t# distances_total = get_distances_to_facilities(r.individuals)\n",
    "\tnum_bins = 30\n",
    "\tn,bins,histPatches = plt.hist(subPopDistances,num_bins,density=True,color = subPopColors,cumulative=True)\n",
    "\tfor patch,pop in zip(histPatches,subPops):\n",
    "\t\tpatch.set_label( f\"$\\\\theta = {pop[0].parameters}$\")\n",
    "\t# legend_dict = {artist.properties().get('label') : artist for artist in ax.collections.copy() + ax.lines.copy()}\n",
    "\tplt.legend(handles=histPatches,loc=\"upper right\")\n",
    "\tplt.show(block=False)\n",
    "\t# plt.close(fig)\n",
    "\treturn fig,ax\n",
    "\n",
    "fig,ax = plotCumulativeHistogram()\n"
   ]
  },
  {
   "cell_type": "code",
   "execution_count": null,
   "metadata": {},
   "outputs": [],
   "source": [
    "### PLOT 3: Empirical CDF\n",
    "\n",
    "\n",
    "\n",
    "\n",
    "def plotCDFs():\n",
    "\tfig, ax = plt.subplots(figsize=(10,10))\n",
    "\tplt.title(f\"Distances from Nearest Facility, Empirical CDF (nIndividuals={len(r.individuals)},nFacilities={len(r.facilityLocations)})\")\n",
    "\tplt.xlabel(f\"Distance from nearest polling station\")\n",
    "\tplt.ylabel(f\"Fraction of Population\")\n",
    "\n",
    "\t## TODO: Oversampling?\n",
    "\t## Returns Nx2 numpy.array\n",
    "\t# list_of_tuples =  list(zip(sorted(container), [i/nElts for i in range(1,nElts + 1)])) #list of tuples\n",
    "\t# return list(zip(*list_of_tuples))\n",
    "\tdef empiricalCDF(container):\n",
    "\t\tnElts = len(container)\n",
    "\t\treturn [sorted(container), [i/nElts for i in range(1,nElts + 1)]]\n",
    "\n",
    "\tdistanceCDFs = np.array([empiricalCDF(distances) for distances in subPopDistances]).flat\n",
    "\t# [xcoords1,ycoords1,xcoords2,ycoords2,...]\n",
    "\tcdfLines = plt.plot(*distanceCDFs)\n",
    "\n",
    "\tfor line,subPop in zip(cdfLines,subPops):\n",
    "\t\tline.set_label( f\"$\\\\theta = {subPop[0].parameters}$\")\n",
    "\n",
    "\tplt.legend(handles=cdfLines,loc=\"lower right\")\n",
    "\tplt.show(block=False)\n",
    "\t# plt.close(fig)\n",
    "\treturn fig,ax\n",
    "\n",
    "\n",
    "\n",
    "fig, ax = plotCDFs()"
   ]
  }
 ],
 "metadata": {
  "kernelspec": {
   "display_name": "Python 3",
   "language": "python",
   "name": "python3"
  },
  "language_info": {
   "codemirror_mode": {
    "name": "ipython",
    "version": 3
   },
   "file_extension": ".py",
   "mimetype": "text/x-python",
   "name": "python",
   "nbconvert_exporter": "python",
   "pygments_lexer": "ipython3",
   "version": "3.8.0"
  }
 },
 "nbformat": 4,
 "nbformat_minor": 2
}
