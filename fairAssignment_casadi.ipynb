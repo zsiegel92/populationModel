{
 "cells": [
  {
   "cell_type": "code",
   "execution_count": 1,
   "metadata": {},
   "outputs": [],
   "source": [
    "from casadi import Opti,log,exp\n",
    "import numpy as np\n",
    "import matplotlib\n",
    "import matplotlib.pyplot as plt\n",
    "import matplotlib.patches as patches\n",
    "from subset_helper import bax"
   ]
  },
  {
   "cell_type": "markdown",
   "metadata": {},
   "source": [
    "Randomly initialize parameters. Individuals and facilities are distributed uniformly randomly around a unit square. Individual types $\\theta_i \\sim \\text{Bernoulli}(\\frac{1}{2})$. That is,\n",
    "$$\n",
    "\\theta_i=\\begin{cases} \n",
    "0 : \\text{ w.p. } \\frac{1}{2}\\\\\n",
    "1 : \\text{ w.p. } \\frac{1}{2}.\n",
    "\\end{cases}\n",
    "$$\n",
    "\n",
    "Distances between individuals and facilities are stored in matrix `dist`."
   ]
  },
  {
   "cell_type": "code",
   "execution_count": 2,
   "metadata": {},
   "outputs": [],
   "source": [
    "sizeRegion = 1\n",
    "nIndiv = 200\n",
    "nFac = 15\n",
    "nSelectedFac = 6\n",
    "fac = np.random.uniform(0,sizeRegion,(nFac, 2))\n",
    "indiv = np.random.uniform(0,sizeRegion,(nIndiv, 2))\n",
    "theta = np.array([np.random.choice([0,1]) for i in range(nIndiv)])\n",
    "dist = np.array([[ (indiv[i,0] - fac[j,0])**2 + (indiv[i,1] - fac[j,1])**2 for j in range(0,nFac)] for i in range(0,nIndiv)]) # nIndiv X nFac"
   ]
  },
  {
   "cell_type": "markdown",
   "metadata": {},
   "source": [
    "The stochastic model is that\n",
    "\n",
    "$$\n",
    "P(\\text{success of individual } i) = f(\\theta_i,r_i)= \\frac{1}{1 + e^{-(\\beta_0 + \\beta_\\theta \\theta_i + \\beta_r r_i)}}.\n",
    "$$\n",
    "where $r_i$ represents the distance of individual $i$ from the nearest selected facility, and $\\beta_r <0$ indicates that increasing distance causes decreased probability of success. Higher type $\\theta_i$ corresponds to a higher probability of success, so $\\beta_\\theta >0$.\n",
    "\n",
    "In this code, $\\beta_0=0$, so a type-$0$ individual ($\\theta_i = 0$) with no distance to the nearest facility ($r_i=0$) has precisely a $\\frac{1}{2}$ probability of success. Increasing $\\beta_0$ increases the probability of success for all individuals.\n",
    "\n",
    "We let $\\beta = (\\beta_0, \\beta_\\theta, \\beta_r)$."
   ]
  },
  {
   "cell_type": "code",
   "execution_count": 3,
   "metadata": {},
   "outputs": [],
   "source": [
    "beta = [0,1,-1] #[beta0, beta_theta >0, beta_r <0]"
   ]
  },
  {
   "cell_type": "markdown",
   "metadata": {},
   "source": [
    "We implement the following optimization model in the `CasADI` Python interface to COIN-OR's `Bonmin` MINLP solver:\n",
    "\n",
    "$$\n",
    "\\begin{array}{llll}\n",
    "            \\max & \\displaystyle\\sum_{i=1}^N u_i & &\\\\\n",
    "            \\text{s.t.} & u_i &= f(\\theta_i,r_i),&i = 1,\\ldots,N\\\\\n",
    "                        & r_i &\\ge d_{ij} x_{ij},&i=1,\\ldots,N,j=1,\\ldots,M\\\\\n",
    "                        & \\displaystyle\\sum_{j=1}^M x_{ij} &=1,&i=1,\\ldots,N\\\\\n",
    "                        & x_{ij} &\\le y_j, &i=1,\\ldots,N,j=1,\\ldots,M\\\\\n",
    "                        &\\displaystyle\\sum_{j=1}^M y_j &\\le m&\\\\\n",
    "                        & x_{ij},y_j &\\in \\{0,1\\},&i=1,\\ldots,N,j=1,\\ldots,M. \n",
    "\\end{array}\n",
    "$$"
   ]
  },
  {
   "cell_type": "code",
   "execution_count": 5,
   "metadata": {},
   "outputs": [
    {
     "ename": "IndentationError",
     "evalue": "unindent does not match any outer indentation level (<tokenize>, line 114)",
     "output_type": "error",
     "traceback": [
      "\u001b[0;36m  File \u001b[0;32m\"<tokenize>\"\u001b[0;36m, line \u001b[0;32m114\u001b[0m\n\u001b[0;31m    legend_dict = {artist.properties().get('label') : artist for artist in ax.collections.copy() + ax.lines.copy() if \"no_legend\" not in artist.properties().get('label')} #Python 3.7\u001b[0m\n\u001b[0m    ^\u001b[0m\n\u001b[0;31mIndentationError\u001b[0m\u001b[0;31m:\u001b[0m unindent does not match any outer indentation level\n"
     ]
    }
   ],
   "source": [
    "def solve_casadi():\n",
    "\topti = Opti()\n",
    "\tx = [[opti.variable() for j in range(nFac)] for i in range(nIndiv)] # nIndiv X nFac\n",
    "\ty = [opti.variable() for j in range(nFac)]\n",
    "\tr = [opti.variable() for i in range(nIndiv)]\n",
    "\tu = [opti.variable() for i in range(nIndiv)]\n",
    "\tdiscrete = []\n",
    "\tdiscrete += [True  for j in range(nFac) for i in range(nIndiv)] #x variables\n",
    "\tdiscrete += [True  for j in range(nFac)] #y variables\n",
    "\tdiscrete += [False for i in range(nIndiv)] #r variables\n",
    "\tdiscrete += [False for i in range(nIndiv)] #u variables\n",
    "\topti.minimize(-sum(u))#maximize sum u\n",
    "\topti.subject_to([u[i] == -log(1+exp(-beta[0] - beta[1]*theta[i] - beta[2]*r[i])) for i in range(nIndiv)]) #log prob(success)\n",
    "\t# opti.subject_to([u[i] == 1/(1+exp(-beta[0] - beta[1]*theta[i] - beta[2]*r[i])) for i in range(nIndiv)]) #prob(success)\n",
    "\topti.subject_to([r[i] >= dist[i,j]*x[i][j] for i in range(nIndiv) for j in range(nFac)])\n",
    "\topti.subject_to([ sum(x[i]) == 1 for i in range(nIndiv) ])\n",
    "\topti.subject_to([ x[i][j] <= y[j] for i in range(nIndiv) for j in range(nFac)])\n",
    "\topti.subject_to(sum(y) <= nSelectedFac)\n",
    "\topti.subject_to([ opti.bounded(0,y[j],1) for j in range(nFac)])\n",
    "\topti.subject_to([ opti.bounded(0,x[i][j],1) for i in range(nIndiv) for j in range(nFac)])\n",
    "\tp_options = {\"discrete\":discrete,\"expand\":True}\n",
    "\ts_options = {\"max_iter\": 100}\n",
    "\topti.solver('bonmin',p_options,s_options)\n",
    "\tsol = opti.solve()\n",
    "\txvals = np.array([[int(sol.value(x[i][j])) for j in range(nFac)] for i in range(nIndiv)])\n",
    "\tyvals = np.array([int(sol.value(y[j])) for j in range(nFac)])\n",
    "\trvals = np.array([sol.value(r[i]) for i in range(nIndiv)])\n",
    "\tuvals = np.array([sol.value(u[i]) for i in range(nIndiv)])\n",
    "\t# prob_success = np.array([1/(1+exp(-beta[0] - beta[1]*theta[i] - beta[2]*rvals[i])) for i in range(nIndiv)])\n",
    "\tprob_success = np.exp(uvals)\n",
    "\tfstar = sol.value(opti.f)\n",
    "\tprint(f\"Solved using CasADI\")\n",
    "\treturn xvals,yvals,rvals,uvals,prob_success,fstar\n",
    "\n",
    "\n",
    "\n",
    "def solve_enumerative():\n",
    "\tbbax=bax()\n",
    "\ten = bbax.enumerator\n",
    "\txvals = np.zeros((nIndiv,nFac),dtype=int)\n",
    "\tyvals = np.zeros((nFac),dtype=int)\n",
    "\trvals = np.zeros((nIndiv))\n",
    "\tuvals = np.full((nIndiv),-np.inf)\n",
    "\n",
    "\tfor ind, gp in enumerate(bbax.bax_gen(nFac,nSelectedFac)):\n",
    "\t\tgp = gp.toList()\n",
    "\t\t# print(locals())\n",
    "\t\t# print(f\"gp: {gp}, gp_dists: {[dist[i][j] for j in gp]}, \")\n",
    "\t\txlist = [ gp[np.argmin([dist[i][j] for j in gp])] for i in range(nIndiv)]\n",
    "\t\tr = [dist[i][xlist[i]] for i in range(nIndiv)]\n",
    "\t\tu = [-log(1+exp(-beta[0] - beta[1]*theta[i] - beta[2]*r[i])) for i in range(nIndiv)]\n",
    "\t\tif sum(u) > sum(uvals):\n",
    "\t\t\tuvals = u\n",
    "\t\t\trvals = r\n",
    "\t\t\tyvals = np.zeros((nFac),dtype=int)\n",
    "\t\t\tyvals[gp] = 1\n",
    "\n",
    "\txvals[range(nIndiv),xlist] = 1\n",
    "\tfstar = sum(uvals)\n",
    "\tprob_success = np.exp(uvals)\n",
    "\tprint(f\"Solved enumeratively\")\n",
    "\treturn xvals,yvals,rvals,uvals,prob_success,fstar\n",
    "\n",
    "def plot_region(title_extra=\"\"):\n",
    "\tnumber_desired_colors = 6\n",
    "\tcmap = plt.cm.get_cmap('nipy_spectral',number_desired_colors)\n",
    "\tcolors = [cmap(i) for i in range(number_desired_colors)]\n",
    "\tfig, ax = plt.subplots(figsize=(10,10))\n",
    "\tplt.axis('off')\n",
    "\ttitle = f\"Region with facilities and individuals\\n(higher type -> success more likely)\"\n",
    "\tif len(title_extra) > 0:\n",
    "\t\ttitle = f\"{title}\\n{title_extra}\"\n",
    "\tplt.title(title)\n",
    "\n",
    "\t## Plot Region\n",
    "\tregion = patches.Rectangle((0,0),sizeRegion,sizeRegion,linewidth=1,edgecolor=colors.pop(),facecolor=\"none\")\n",
    "\tax.add_patch(region)\n",
    "\n",
    "\t## Plot Objectives\n",
    "\tdef plotObjectives():\n",
    "\t\tcm = plt.cm.get_cmap('gist_rainbow')\n",
    "\t\tobj_scatter = plt.scatter(indiv[:,0],indiv[:,1],marker=\"o\",s=14**2,lw=2,alpha=0.5,c=prob_success,cmap=\"gist_rainbow\",label=\"no_legend\")\n",
    "\t\tobj_scatter.set_facecolor('none')\n",
    "\t\tcbar = plt.colorbar(obj_scatter)\n",
    "\t\tplt.clim(0,1)\n",
    "\t\tcbar.ax.set_ylabel('P(success)')\n",
    "\tplotObjectives()\n",
    "\n",
    "\t## Plot Individuals\n",
    "\tlabelIndividuals = \"Individual\"\n",
    "\tdef plotIndividuals():\n",
    "\t\tcolor_weight_map = {ttheta : colors.pop() for ttheta in set(theta)}\n",
    "\t\tindividual_colors = [color_weight_map[ttheta] for ttheta in theta]\n",
    "\t\tindividual_labels = [f\"{labelIndividuals} type {ttheta}\" for coords,ttheta in zip(indiv,theta)]\n",
    "\t\tfor i,coords in enumerate(indiv):\n",
    "\t\t\tplt.scatter(*coords,marker = \"*\",c=[individual_colors[i]],label=individual_labels[i])\n",
    "\tplotIndividuals()\n",
    "\n",
    "\t## Plot Facilities\n",
    "\tlabelFacility = \"Facility\"\n",
    "\tdef plotFacilities():\n",
    "\t\tsize_options = [5**2,9**2]\n",
    "\t\tfacility_sizes = [size_options[yval] for yval in yvals]\n",
    "\t\tfacility_color_map = {yval : colors.pop() for yval in set(yvals)}\n",
    "\t\tfacility_colors = [facility_color_map[yval] for yval in yvals]\n",
    "\t\tfacility_states = [\"Omitted\", \"Selected\"]\n",
    "\t\tfacility_labels = [f\"{facility_states[yval]} {labelFacility}\" for yval in yvals]\n",
    "\t\tfor i, coords in enumerate(fac):\n",
    "\t\t\tplt.scatter(*coords,marker = \"+\",c=[facility_colors[i]],s=[facility_sizes[i]],label=facility_labels[i])\n",
    "\tplotFacilities()\n",
    "\n",
    "\t## Create Legend\n",
    "\t# legend_dict = {legendTitle : artist for artist in ax.collections.copy() + ax.lines.copy() if \"no_legend\" not in (legendTitle:=artist.properties().get('label'))} #Python 3.8\n",
    "\tlegend_dict = {artist.properties().get('label') : artist for artist in ax.collections.copy() + ax.lines.copy() if \"no_legend\" not in artist.properties().get('label')} #Python 3.7\n",
    "\tplt.legend(legend_dict.values(),legend_dict.keys(),loc='upper center', bbox_to_anchor=(0.5, 0), ncol=len(legend_dict),fontsize='small') #,loc=\"upper right\"\n",
    "\tplt.show(block=False)\n",
    "\treturn fig,ax"
   ]
  },
  {
   "cell_type": "markdown",
   "metadata": {},
   "source": [
    "## Solve and Plot the solution:"
   ]
  },
  {
   "cell_type": "code",
   "execution_count": null,
   "metadata": {},
   "outputs": [],
   "source": [
    "xvals,yvals,rvals,uvals,prob_success,fstar = solve_enumerative()\n",
    "\n",
    "\n",
    "fig,ax = plot_region(\"(enumerative method)\")"
   ]
  }
 ],
 "metadata": {
  "kernelspec": {
   "display_name": "Python 3",
   "language": "python",
   "name": "python3"
  },
  "language_info": {
   "codemirror_mode": {
    "name": "ipython",
    "version": 3
   },
   "file_extension": ".py",
   "mimetype": "text/x-python",
   "name": "python",
   "nbconvert_exporter": "python",
   "pygments_lexer": "ipython3",
   "version": "3.8.0"
  }
 },
 "nbformat": 4,
 "nbformat_minor": 4
}
